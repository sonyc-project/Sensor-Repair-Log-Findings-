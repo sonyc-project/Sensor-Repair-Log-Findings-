{
 "cells": [
  {
   "cell_type": "markdown",
   "metadata": {},
   "source": [
    "# SONYC Network Write-up Summer 2020\n",
    "\n",
    "\n",
    "The data comes from the original “Sensor Maintenance Log”. This log is where sensor engineers record sensor faults during each visit. Sensor FQDN, location, faults and fixes are all recorded in this form as well as how long each sensor took to fix. \n",
    "  \n",
    "  \n",
    "The original form gave the engineer the option to check off as many problems as needed on the form. Below is an example of the faults section of the form filled out. This is how an engineer would typically fill out the form when there appears to be more than one fault on a single sensor visit. \n",
    "\n",
    "![](images/form.png)\n",
    "\n",
    "\n",
    "As I was compiling all of the data on the google sheet, I recognised that there was not enough consistency in the wording of the data to make it easily machine readable. For example, some of the faults would have written in entries, making it very difficult to create a machine-readable algorithm to visualize the data. Below is an entry from the “Sensor Maintenance Log” sheet that shows this. \n",
    "\n",
    "![](images/power.png)\n",
    "\n",
    "The wording of this entry is not consistent enough with the choices on the form to even be able to group it by keyword. I decided that there should be a way to enter the data in a more detailed and machine-readable format. This is how I created my new version of the repair log. I looked through all of the previous data and found that all of the entries fit into one of 8 categories. Those include power, wifi, Internal Issues, External issues, Water Damage, Code Bug, Inaccessible, or unmounted. \n",
    "\n",
    "\n",
    "The new form has multiple sections. It records basic data about the sensor such as FQDN, sensor location and how long each sensor took to fix. From there, you chose what category the issue falls into. From there, the form allows you to choose the specific type of problem and insert how you fixed it. This is an example of the faults under the “power” section.\n",
    "\n",
    "\n",
    "![](images/power_issues.png)\n",
    "\n",
    "From there, you are able to choose multiple solutions that were tried. \n",
    "\n",
    "![](images/power_fix.png)\n",
    "\n",
    "Every issue that has ever been recorded for sensor faults have been added to the form so that there will be very little to no manually inputted information. [This](https://docs.google.com/forms/d/e/1FAIpQLSeATP-bJxwGx6i4iKsI8ZUBbZUIgp5vGD5cxFJVBOkFfjHiTA/viewform) form also allows users to enter multiple faults per visit. This is the link to the updated google form. \n",
    "\n",
    "\n",
    "I manually transferred all of the entries from the old form to the updated one. All of this data can be found on a google sheet linked to the form. This sheet is organized into categories; there is basic information, one section for each fault, as well as one section for each category. This is all color-coded to make it easily readable. That sheet can be found [here](https://docs.google.com/document/d/1yfAyODgW51rM1zO6KKSXv8NAcIRup3mCLfKhxZ47HNM/edit). \n",
    "\n",
    "In doing all of this data transferring, I was able to make observations about the sensor network as a whole. Since each individual fault is entered separately, the most frequently recorded fault can be seen, but there is also data that shows which type of fault is typically entered first during a visit. This can be seen based on which order it is listed on the original repair log google sheet.\n",
    "\n",
    "![](images/totalLogs.png)\n",
    "\n",
    "_This chart represents overall fault numbers._\n",
    "\n",
    "This shows that the most common fault recorded is under the ‘power’ category. This is closely followed by ‘wifi’ faults. This can also be seen when you look at which faults are commonly recorded first in a visit. ‘Power’ faults are more commonly recorded first during a sensor visit. The second fault typically recorded is ‘wifi’, which follows the chart above. \n",
    "\n",
    "![](images/first_issue.png)\n",
    "![](images/second_issue.png)\n",
    "\n",
    "This shows that power faults are not only the most common faults, but typically the first fault noticed during a sensor visit. \n",
    "\n",
    "\n",
    "The most common overall fault in the sensor network is under the power category as well. The most common fault is ‘power unplugged from outlet’ (25 times recorded), followed by ‘unstable power connection from micro-USB to pi’ (22 times recorded), which is the second most common fault in the overall sensor network. This can be seen here. \n",
    "\n",
    "![](images/which_power.png)\n",
    "\n",
    "Because power being unplugged is the most common fault, the most common fix during any sensor visit is a power cycle. \n",
    "\n",
    "![](images/power_fix_bars.png)\n",
    "\n",
    "If you look at the percent of visits that are power related (78 of the 184 recorded [42.39%]) and the number of power visits that only require a power cycle (41.7% of power visits), it can be concluded that the ability to remotely power cycle sensors would reduce sensor visits by 17.7%. Based on the recorded repair log hours, this would save roughly 263 minutes of sensor engineer time. This is calculated by taking the total time recorded (1485 minutes) and 17.7% of that. \n",
    "\n",
    "\n",
    "\n",
    "\n",
    "\n",
    "\n"
   ]
  },
  {
   "cell_type": "code",
   "execution_count": null,
   "metadata": {},
   "outputs": [],
   "source": []
  }
 ],
 "metadata": {
  "kernelspec": {
   "display_name": "Python 3",
   "language": "python",
   "name": "python3"
  },
  "language_info": {
   "codemirror_mode": {
    "name": "ipython",
    "version": 3
   },
   "file_extension": ".py",
   "mimetype": "text/x-python",
   "name": "python",
   "nbconvert_exporter": "python",
   "pygments_lexer": "ipython3",
   "version": "3.9.1"
  }
 },
 "nbformat": 4,
 "nbformat_minor": 4
}
